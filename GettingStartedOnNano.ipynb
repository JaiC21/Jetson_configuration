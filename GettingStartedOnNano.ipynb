{
  "nbformat": 4,
  "nbformat_minor": 0,
  "metadata": {
    "colab": {
      "provenance": [],
      "authorship_tag": "ABX9TyOXtiQkCRP2OXp2mJCZYnVJ"
    },
    "kernelspec": {
      "name": "python3",
      "display_name": "Python 3"
    },
    "language_info": {
      "name": "python"
    },
    "gpuClass": "standard"
  },
  "cells": [
    {
      "cell_type": "markdown",
      "source": [
        "**Getting Started With NVIDIA Jetson Nano Developer Kit**"
      ],
      "metadata": {
        "id": "3TYPOlvxqM4u"
      }
    },
    {
      "cell_type": "markdown",
      "source": [
        "After flashing Image to microSD, insert the microSD card into the microSD slot, boot the jetson by plugging the power supply.\n",
        "\n"
      ],
      "metadata": {
        "id": "XzufXBgFqX4V"
      }
    },
    {
      "cell_type": "markdown",
      "source": [
        "When you boot the system for the first time, you'll be taken through some initial setup, including:\n",
        "\n",
        "* Review and accept NVIDIA Jetson software EULA  \n",
        "* Select system language, keyboard layout, and time zone\n",
        "* Create username, password, and computer name\n",
        "* Log in\n",
        "\n",
        "After the initial setup, you should see the following screen:\n",
        "\n"
      ],
      "metadata": {
        "id": "CCAmeFFprWsy"
      }
    },
    {
      "cell_type": "markdown",
      "source": [
        "Recent releases of JetPack enable swap memory as part of the default distribution using the zram module. By default, 4GB of swap memory is enabled. To change the amount of swap memory, you can either edit the /etc/systemd/nvzramconfig.sh file directly or use the resizeSwapMemory repository from JetsonNanoHacks.\n",
        "\n"
      ],
      "metadata": {
        "id": "vGO3s1DOr8Wz"
      }
    },
    {
      "cell_type": "code",
      "source": [
        "git clone https://github.com/JetsonHacksNano/resizeSwapMemory\n",
        "cd resizeSwapMemory\n",
        " ./setSwapMemorySize.sh -g 4"
      ],
      "metadata": {
        "id": "yj0MB8HDr03j"
      },
      "execution_count": null,
      "outputs": []
    },
    {
      "cell_type": "markdown",
      "source": [
        "After executing the above command, you'll have to restart the Jetson Nano for the changes to take effect.\n",
        "\n"
      ],
      "metadata": {
        "id": "8J6CsmpcsGxr"
      }
    },
    {
      "cell_type": "markdown",
      "source": [
        "Installing prerequisites and configuring your Python environment\n",
        "Now that the Jetson Nano is ready to go, we will create a deep learning environment. We will start by installing all prerequisites and configuring a Python environment"
      ],
      "metadata": {
        "id": "5FRwV9xXsJgy"
      }
    },
    {
      "cell_type": "code",
      "source": [
        "sudo apt-get update\n",
        "sudo apt-get upgrade\n",
        "\n",
        "sudo apt-get install git cmake python3-dev nano\n",
        "\n",
        "sudo apt-get install libhdf5-serial-dev hdf5-tools libhdf5-dev zlib1g-dev zip libjpeg8-dev"
      ],
      "metadata": {
        "id": "pDuTd3qwsxB6"
      },
      "execution_count": null,
      "outputs": []
    },
    {
      "cell_type": "markdown",
      "source": [
        "Configuring your Python environment\n",
        "Next, we will configure our Python environment. This includes downloading pip3 and virtualenv.\n",
        "\n",
        "Install pip:"
      ],
      "metadata": {
        "id": "dJMNwsN0syrd"
      }
    },
    {
      "cell_type": "code",
      "source": [
        "sudo apt-get install python3-pip\n",
        "sudo pip3 install -U pip testresources setuptools"
      ],
      "metadata": {
        "id": "ZkRQO_6qs4SR"
      },
      "execution_count": null,
      "outputs": []
    },
    {
      "cell_type": "markdown",
      "source": [
        "For managing virtual environments, we'll be using virtualenv, which can be installed as below:\n",
        "\n"
      ],
      "metadata": {
        "id": "lGwpeLY4s7dA"
      }
    },
    {
      "cell_type": "code",
      "source": [
        "sudo pip install virtualenv virtualenvwrapper"
      ],
      "metadata": {
        "id": "Opbt2oUIs_Tf"
      },
      "execution_count": null,
      "outputs": []
    },
    {
      "cell_type": "markdown",
      "source": [
        "To get virtualenv to work, we need to add the following lines to the ~/.bashrc file:\n",
        "\n"
      ],
      "metadata": {
        "id": "iZrIMRdEtB8v"
      }
    },
    {
      "cell_type": "code",
      "source": [
        "# virtualenv and virtualenvwrapper\n",
        "export WORKON_HOME=$HOME/.virtualenvs\n",
        "export VIRTUALENVWRAPPER_PYTHON=/usr/bin/python3\n",
        "source /usr/local/bin/virtualenvwrapper.sh"
      ],
      "metadata": {
        "id": "XG556_Z0tF3u"
      },
      "execution_count": null,
      "outputs": []
    },
    {
      "cell_type": "markdown",
      "source": [
        "To activate the changes, the following command must be executed:\n",
        "\n"
      ],
      "metadata": {
        "id": "Uo0rzahwtKtK"
      }
    },
    {
      "cell_type": "code",
      "source": [
        "source ~/.bashrc"
      ],
      "metadata": {
        "id": "XisC4D4vtL7G"
      },
      "execution_count": null,
      "outputs": []
    },
    {
      "cell_type": "markdown",
      "source": [
        "Now we can create a virtual environment using the mkvirtualenv command.\n",
        "\n"
      ],
      "metadata": {
        "id": "P9lh3g04sype"
      }
    },
    {
      "cell_type": "code",
      "source": [
        "mkvirtualenv ml -p python3\n",
        "workon ml"
      ],
      "metadata": {
        "id": "RX3msqAotUBs"
      },
      "execution_count": null,
      "outputs": []
    },
    {
      "cell_type": "markdown",
      "source": [
        "**Installing deep learning libraries**"
      ],
      "metadata": {
        "id": "OzkF2r6btho0"
      }
    },
    {
      "cell_type": "markdown",
      "source": [
        "Pytorch"
      ],
      "metadata": {
        "id": "Q9KZZbCttpa9"
      }
    },
    {
      "cell_type": "code",
      "source": [
        "# the dependencies\n",
        "sudo apt-get install ninja-build git cmake\n",
        "sudo apt-get install libjpeg-dev libopenmpi-dev libomp-dev ccache\n",
        "sudo apt-get install libopenblas-dev libblas-dev libeigen3-dev\n",
        "sudo pip3 install -U --user wheel mock pillow\n",
        "sudo -H pip3 install testresources\n",
        "# above 58.3.0 you get version issues\n",
        "sudo -H pip3 install setuptools==58.3.0\n",
        "sudo -H pip3 install scikit-build\n",
        "# download PyTorch 1.13.0 with all its libraries\n",
        "git clone -b v1.13.0 --depth=1 --recursive https://github.com/pytorch/pytorch.git\n",
        "cd pytorch\n",
        "# one command to install several dependencies in one go\n",
        "# installs future, numpy, pyyaml, requests\n",
        "# setuptools, six, typing_extensions, dataclasses\n",
        "sudo pip3 install -r requirements.txt"
      ],
      "metadata": {
        "id": "UbXDFZb1tpE9"
      },
      "execution_count": null,
      "outputs": []
    },
    {
      "cell_type": "markdown",
      "source": [
        "**Compiling and installing Jetson Inference**\n"
      ],
      "metadata": {
        "id": "luKM2t_u1jh5"
      }
    },
    {
      "cell_type": "code",
      "source": [
        "sudo apt-get update\n",
        "git clone --recursive https://github.com/dusty-nv/jetson-inference\n",
        "cd jetson-inference\n",
        "mkdir build\n",
        "cd build\n",
        "cmake ../\n",
        "make -j$(nproc)\n",
        "sudo make install\n",
        "sudo ldconfig"
      ],
      "metadata": {
        "id": "hKUl0NbE1kDF"
      },
      "execution_count": null,
      "outputs": []
    }
  ]
}